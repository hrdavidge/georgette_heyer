{
 "cells": [
  {
   "cell_type": "code",
   "execution_count": 1,
   "metadata": {
    "collapsed": true
   },
   "outputs": [],
   "source": [
    "import pandas as pd\n",
    "import pdb\n",
    "import numpy as np"
   ]
  },
  {
   "cell_type": "code",
   "execution_count": 2,
   "metadata": {
    "collapsed": true
   },
   "outputs": [],
   "source": [
    "# setting the variables\n",
    "gender = 'hero'\n",
    "character_variables = ['light', 'older_male']\n",
    "column_name = ['least_hero1', 'least_hero2', 'least_hero3', 'least_hero4', 'least_hero5']\n",
    "new_column_name = ['type_1', 'type_2', 'type_3', 'type_4', 'type_5', 'age_1', 'age_2', 'age_3', 'age_4', 'age_5']\n",
    "new_column_type = ['type_1', 'type_2', 'type_3', 'type_4', 'type_5']\n",
    "new_column_age = ['age_1', 'age_2', 'age_3', 'age_4', 'age_5']"
   ]
  },
  {
   "cell_type": "code",
   "execution_count": 3,
   "metadata": {
    "collapsed": true
   },
   "outputs": [],
   "source": [
    "# read in dataframes\n",
    "survey_df = pd.read_csv('master_csv.csv')\n",
    "#novels_df = pd.read_csv('novels.csv')\n",
    "characters_df = pd.read_csv('characters.csv')"
   ]
  },
  {
   "cell_type": "code",
   "execution_count": 4,
   "metadata": {},
   "outputs": [
    {
     "data": {
      "text/plain": [
       "Index([u'num', u'media', u'fav_novel1', u'fav_novel2', u'fav_novel3',\n",
       "       u'fav_novel4', u'fav_novel5', u'fav_heroi1', u'fav_heroi2',\n",
       "       u'fav_heroi3',\n",
       "       ...\n",
       "       u'nationality3', u'country1', u'country2', u'country3', u'country4',\n",
       "       u'first_lang', u'education', u'professions', u'mainstream',\n",
       "       u'feminist'],\n",
       "      dtype='object', length=165)"
      ]
     },
     "execution_count": 4,
     "metadata": {},
     "output_type": "execute_result"
    }
   ],
   "source": [
    "survey_df.columns"
   ]
  },
  {
   "cell_type": "code",
   "execution_count": 5,
   "metadata": {
    "collapsed": true
   },
   "outputs": [],
   "source": [
    "# just choose the rows from survey_df where the user has filled out all of the least favourite heroines\n",
    "good_survey_df = survey_df[survey_df[column_name[0]].notnull() & survey_df[column_name[1]].notnull() & survey_df[column_name[2]].notnull() & survey_df[column_name[3]].notnull() & survey_df[column_name[4]].notnull()]"
   ]
  },
  {
   "cell_type": "code",
   "execution_count": 6,
   "metadata": {},
   "outputs": [
    {
     "data": {
      "text/plain": [
       "121"
      ]
     },
     "execution_count": 6,
     "metadata": {},
     "output_type": "execute_result"
    }
   ],
   "source": [
    "len(good_survey_df)"
   ]
  },
  {
   "cell_type": "code",
   "execution_count": 7,
   "metadata": {},
   "outputs": [
    {
     "name": "stderr",
     "output_type": "stream",
     "text": [
      "/Users/helendavidge/anaconda2/lib/python2.7/site-packages/ipykernel_launcher.py:2: SettingWithCopyWarning: \n",
      "A value is trying to be set on a copy of a slice from a DataFrame.\n",
      "Try using .loc[row_indexer,col_indexer] = value instead\n",
      "\n",
      "See the caveats in the documentation: http://pandas.pydata.org/pandas-docs/stable/indexing.html#indexing-view-versus-copy\n",
      "  \n",
      "/Users/helendavidge/anaconda2/lib/python2.7/site-packages/ipykernel_launcher.py:3: SettingWithCopyWarning: \n",
      "A value is trying to be set on a copy of a slice from a DataFrame.\n",
      "Try using .loc[row_indexer,col_indexer] = value instead\n",
      "\n",
      "See the caveats in the documentation: http://pandas.pydata.org/pandas-docs/stable/indexing.html#indexing-view-versus-copy\n",
      "  This is separate from the ipykernel package so we can avoid doing imports until\n",
      "/Users/helendavidge/anaconda2/lib/python2.7/site-packages/ipykernel_launcher.py:4: SettingWithCopyWarning: \n",
      "A value is trying to be set on a copy of a slice from a DataFrame.\n",
      "Try using .loc[row_indexer,col_indexer] = value instead\n",
      "\n",
      "See the caveats in the documentation: http://pandas.pydata.org/pandas-docs/stable/indexing.html#indexing-view-versus-copy\n",
      "  after removing the cwd from sys.path.\n",
      "/Users/helendavidge/anaconda2/lib/python2.7/site-packages/ipykernel_launcher.py:5: SettingWithCopyWarning: \n",
      "A value is trying to be set on a copy of a slice from a DataFrame.\n",
      "Try using .loc[row_indexer,col_indexer] = value instead\n",
      "\n",
      "See the caveats in the documentation: http://pandas.pydata.org/pandas-docs/stable/indexing.html#indexing-view-versus-copy\n",
      "  \"\"\"\n",
      "/Users/helendavidge/anaconda2/lib/python2.7/site-packages/ipykernel_launcher.py:6: SettingWithCopyWarning: \n",
      "A value is trying to be set on a copy of a slice from a DataFrame.\n",
      "Try using .loc[row_indexer,col_indexer] = value instead\n",
      "\n",
      "See the caveats in the documentation: http://pandas.pydata.org/pandas-docs/stable/indexing.html#indexing-view-versus-copy\n",
      "  \n",
      "/Users/helendavidge/anaconda2/lib/python2.7/site-packages/ipykernel_launcher.py:7: SettingWithCopyWarning: \n",
      "A value is trying to be set on a copy of a slice from a DataFrame.\n",
      "Try using .loc[row_indexer,col_indexer] = value instead\n",
      "\n",
      "See the caveats in the documentation: http://pandas.pydata.org/pandas-docs/stable/indexing.html#indexing-view-versus-copy\n",
      "  import sys\n",
      "/Users/helendavidge/anaconda2/lib/python2.7/site-packages/ipykernel_launcher.py:8: SettingWithCopyWarning: \n",
      "A value is trying to be set on a copy of a slice from a DataFrame.\n",
      "Try using .loc[row_indexer,col_indexer] = value instead\n",
      "\n",
      "See the caveats in the documentation: http://pandas.pydata.org/pandas-docs/stable/indexing.html#indexing-view-versus-copy\n",
      "  \n",
      "/Users/helendavidge/anaconda2/lib/python2.7/site-packages/ipykernel_launcher.py:9: SettingWithCopyWarning: \n",
      "A value is trying to be set on a copy of a slice from a DataFrame.\n",
      "Try using .loc[row_indexer,col_indexer] = value instead\n",
      "\n",
      "See the caveats in the documentation: http://pandas.pydata.org/pandas-docs/stable/indexing.html#indexing-view-versus-copy\n",
      "  if __name__ == '__main__':\n",
      "/Users/helendavidge/anaconda2/lib/python2.7/site-packages/ipykernel_launcher.py:10: SettingWithCopyWarning: \n",
      "A value is trying to be set on a copy of a slice from a DataFrame.\n",
      "Try using .loc[row_indexer,col_indexer] = value instead\n",
      "\n",
      "See the caveats in the documentation: http://pandas.pydata.org/pandas-docs/stable/indexing.html#indexing-view-versus-copy\n",
      "  # Remove the CWD from sys.path while we load stuff.\n",
      "/Users/helendavidge/anaconda2/lib/python2.7/site-packages/ipykernel_launcher.py:11: SettingWithCopyWarning: \n",
      "A value is trying to be set on a copy of a slice from a DataFrame.\n",
      "Try using .loc[row_indexer,col_indexer] = value instead\n",
      "\n",
      "See the caveats in the documentation: http://pandas.pydata.org/pandas-docs/stable/indexing.html#indexing-view-versus-copy\n",
      "  # This is added back by InteractiveShellApp.init_path()\n"
     ]
    }
   ],
   "source": [
    "# in good_survey_df create 10 new rows to hold the character data\n",
    "good_survey_df[new_column_name[0]] = np.nan\n",
    "good_survey_df[new_column_name[1]] = np.nan\n",
    "good_survey_df[new_column_name[2]] = np.nan\n",
    "good_survey_df[new_column_name[3]] = np.nan\n",
    "good_survey_df[new_column_name[4]] = np.nan\n",
    "good_survey_df[new_column_name[5]] = np.nan\n",
    "good_survey_df[new_column_name[6]] = np.nan\n",
    "good_survey_df[new_column_name[7]] = np.nan\n",
    "good_survey_df[new_column_name[8]] = np.nan\n",
    "good_survey_df[new_column_name[9]] = np.nan"
   ]
  },
  {
   "cell_type": "code",
   "execution_count": 8,
   "metadata": {},
   "outputs": [
    {
     "name": "stderr",
     "output_type": "stream",
     "text": [
      "/Users/helendavidge/anaconda2/lib/python2.7/site-packages/pandas/core/indexing.py:517: SettingWithCopyWarning: \n",
      "A value is trying to be set on a copy of a slice from a DataFrame.\n",
      "Try using .loc[row_indexer,col_indexer] = value instead\n",
      "\n",
      "See the caveats in the documentation: http://pandas.pydata.org/pandas-docs/stable/indexing.html#indexing-view-versus-copy\n",
      "  self.obj[item] = s\n"
     ]
    }
   ],
   "source": [
    "# remove the nan values in the colunm we want in characters_df\n",
    "good_characters_df = characters_df[characters_df[gender].notnull()]\n",
    "\n",
    "# now loop through all the character names\n",
    "for name in good_characters_df[gender]:\n",
    "    # get character_variables for name\n",
    "    v1 = characters_df.at[characters_df.index[characters_df[gender] == name][0], character_variables[0]]\n",
    "    v2 = characters_df.at[characters_df.index[characters_df[gender] == name][0], character_variables[1]]\n",
    "    # for checking for nans\n",
    "    #print name, ' ', v1, ' ', v2\n",
    "    \n",
    "    # now check each of the column_name for name, if it matches, load information into correct new_columns_name\n",
    "    good_survey_df.loc[good_survey_df[column_name[0]] == name, new_column_name[0]] = v1\n",
    "    good_survey_df.loc[good_survey_df[column_name[0]] == name, new_column_name[5]] = v2\n",
    "    good_survey_df.loc[good_survey_df[column_name[1]] == name, new_column_name[1]] = v1\n",
    "    good_survey_df.loc[good_survey_df[column_name[1]] == name, new_column_name[6]] = v2\n",
    "    good_survey_df.loc[good_survey_df[column_name[2]] == name, new_column_name[2]] = v1\n",
    "    good_survey_df.loc[good_survey_df[column_name[2]] == name, new_column_name[7]] = v2\n",
    "    good_survey_df.loc[good_survey_df[column_name[3]] == name, new_column_name[3]] = v1\n",
    "    good_survey_df.loc[good_survey_df[column_name[3]] == name, new_column_name[8]] = v2\n",
    "    good_survey_df.loc[good_survey_df[column_name[4]] == name, new_column_name[4]] = v1\n",
    "    good_survey_df.loc[good_survey_df[column_name[4]] == name, new_column_name[9]] = v2"
   ]
  },
  {
   "cell_type": "code",
   "execution_count": 9,
   "metadata": {
    "collapsed": true
   },
   "outputs": [],
   "source": [
    "# code to check for nans in the new rows, just to check that all rows have been filled in correctly\n",
    "if sum(pd.isnull(good_survey_df[new_column_name[0]])) != 0:\n",
    "    print 'column ', new_column_name[0], ' contains one or more NaNs'\n",
    "if sum(pd.isnull(good_survey_df[new_column_name[1]])) != 0:\n",
    "    print 'column ', new_column_name[1], ' contains one or more NaNs'\n",
    "if sum(pd.isnull(good_survey_df[new_column_name[2]])) != 0:\n",
    "    print 'column ', new_column_name[2], ' contains one or more NaNs'\n",
    "if sum(pd.isnull(good_survey_df[new_column_name[3]])) != 0:\n",
    "    print 'column ', new_column_name[3], ' contains one or more NaNs'\n",
    "if sum(pd.isnull(good_survey_df[new_column_name[4]])) != 0:\n",
    "    print 'column ', new_column_name[4], ' contains one or more NaNs'\n",
    "if sum(pd.isnull(good_survey_df[new_column_name[5]])) != 0:\n",
    "    print 'column ', new_column_name[5], ' contains one or more NaNs'\n",
    "if sum(pd.isnull(good_survey_df[new_column_name[6]])) != 0:\n",
    "    print 'column ', new_column_name[6], ' contains one or more NaNs'\n",
    "if sum(pd.isnull(good_survey_df[new_column_name[7]])) != 0:\n",
    "    print 'column ', new_column_name[7], ' contains one or more NaNs'\n",
    "if sum(pd.isnull(good_survey_df[new_column_name[8]])) != 0:\n",
    "    print 'column ', new_column_name[8], ' contains one or more NaNs'\n",
    "if sum(pd.isnull(good_survey_df[new_column_name[9]])) != 0:\n",
    "    print 'column ', new_column_name[9], ' contains one or more NaNs'"
   ]
  },
  {
   "cell_type": "code",
   "execution_count": 14,
   "metadata": {},
   "outputs": [
    {
     "name": "stderr",
     "output_type": "stream",
     "text": [
      "/Users/helendavidge/anaconda2/lib/python2.7/site-packages/ipykernel_launcher.py:5: SettingWithCopyWarning: \n",
      "A value is trying to be set on a copy of a slice from a DataFrame.\n",
      "Try using .loc[row_indexer,col_indexer] = value instead\n",
      "\n",
      "See the caveats in the documentation: http://pandas.pydata.org/pandas-docs/stable/indexing.html#indexing-view-versus-copy\n",
      "  \"\"\"\n",
      "/Users/helendavidge/anaconda2/lib/python2.7/site-packages/ipykernel_launcher.py:6: SettingWithCopyWarning: \n",
      "A value is trying to be set on a copy of a slice from a DataFrame.\n",
      "Try using .loc[row_indexer,col_indexer] = value instead\n",
      "\n",
      "See the caveats in the documentation: http://pandas.pydata.org/pandas-docs/stable/indexing.html#indexing-view-versus-copy\n",
      "  \n",
      "/Users/helendavidge/anaconda2/lib/python2.7/site-packages/ipykernel_launcher.py:7: SettingWithCopyWarning: \n",
      "A value is trying to be set on a copy of a slice from a DataFrame.\n",
      "Try using .loc[row_indexer,col_indexer] = value instead\n",
      "\n",
      "See the caveats in the documentation: http://pandas.pydata.org/pandas-docs/stable/indexing.html#indexing-view-versus-copy\n",
      "  import sys\n",
      "/Users/helendavidge/anaconda2/lib/python2.7/site-packages/ipykernel_launcher.py:11: SettingWithCopyWarning: \n",
      "A value is trying to be set on a copy of a slice from a DataFrame.\n",
      "Try using .loc[row_indexer,col_indexer] = value instead\n",
      "\n",
      "See the caveats in the documentation: http://pandas.pydata.org/pandas-docs/stable/indexing.html#indexing-view-versus-copy\n",
      "  # This is added back by InteractiveShellApp.init_path()\n",
      "/Users/helendavidge/anaconda2/lib/python2.7/site-packages/ipykernel_launcher.py:12: SettingWithCopyWarning: \n",
      "A value is trying to be set on a copy of a slice from a DataFrame.\n",
      "Try using .loc[row_indexer,col_indexer] = value instead\n",
      "\n",
      "See the caveats in the documentation: http://pandas.pydata.org/pandas-docs/stable/indexing.html#indexing-view-versus-copy\n",
      "  if sys.path[0] == '':\n",
      "/Users/helendavidge/anaconda2/lib/python2.7/site-packages/ipykernel_launcher.py:13: SettingWithCopyWarning: \n",
      "A value is trying to be set on a copy of a slice from a DataFrame.\n",
      "Try using .loc[row_indexer,col_indexer] = value instead\n",
      "\n",
      "See the caveats in the documentation: http://pandas.pydata.org/pandas-docs/stable/indexing.html#indexing-view-versus-copy\n",
      "  del sys.path[0]\n",
      "/Users/helendavidge/anaconda2/lib/python2.7/site-packages/pandas/core/indexing.py:179: SettingWithCopyWarning: \n",
      "A value is trying to be set on a copy of a slice from a DataFrame\n",
      "\n",
      "See the caveats in the documentation: http://pandas.pydata.org/pandas-docs/stable/indexing.html#indexing-view-versus-copy\n",
      "  self._setitem_with_indexer(indexer, value)\n",
      "/Users/helendavidge/anaconda2/lib/python2.7/site-packages/ipykernel_launcher.py:22: SettingWithCopyWarning: \n",
      "A value is trying to be set on a copy of a slice from a DataFrame\n",
      "\n",
      "See the caveats in the documentation: http://pandas.pydata.org/pandas-docs/stable/indexing.html#indexing-view-versus-copy\n",
      "/Users/helendavidge/anaconda2/lib/python2.7/site-packages/ipykernel_launcher.py:24: SettingWithCopyWarning: \n",
      "A value is trying to be set on a copy of a slice from a DataFrame\n",
      "\n",
      "See the caveats in the documentation: http://pandas.pydata.org/pandas-docs/stable/indexing.html#indexing-view-versus-copy\n",
      "/Users/helendavidge/anaconda2/lib/python2.7/site-packages/ipykernel_launcher.py:31: SettingWithCopyWarning: \n",
      "A value is trying to be set on a copy of a slice from a DataFrame\n",
      "\n",
      "See the caveats in the documentation: http://pandas.pydata.org/pandas-docs/stable/indexing.html#indexing-view-versus-copy\n",
      "/Users/helendavidge/anaconda2/lib/python2.7/site-packages/ipykernel_launcher.py:33: SettingWithCopyWarning: \n",
      "A value is trying to be set on a copy of a slice from a DataFrame\n",
      "\n",
      "See the caveats in the documentation: http://pandas.pydata.org/pandas-docs/stable/indexing.html#indexing-view-versus-copy\n",
      "/Users/helendavidge/anaconda2/lib/python2.7/site-packages/ipykernel_launcher.py:20: SettingWithCopyWarning: \n",
      "A value is trying to be set on a copy of a slice from a DataFrame\n",
      "\n",
      "See the caveats in the documentation: http://pandas.pydata.org/pandas-docs/stable/indexing.html#indexing-view-versus-copy\n",
      "/Users/helendavidge/anaconda2/lib/python2.7/site-packages/ipykernel_launcher.py:29: SettingWithCopyWarning: \n",
      "A value is trying to be set on a copy of a slice from a DataFrame\n",
      "\n",
      "See the caveats in the documentation: http://pandas.pydata.org/pandas-docs/stable/indexing.html#indexing-view-versus-copy\n"
     ]
    }
   ],
   "source": [
    "# now save the character type if 4 of the 5 have the same type\n",
    "\n",
    "# create a temporary dataframe for character type, and add on three more rows\n",
    "character_type_good_survey_df = good_survey_df\n",
    "character_type_good_survey_df['type0'] = 0\n",
    "character_type_good_survey_df['type1'] = 0\n",
    "character_type_good_survey_df['type2'] = 0\n",
    "\n",
    "# create a temporary dataframe for chatacter age, and add on three more rows\n",
    "character_age_good_survey_df = good_survey_df\n",
    "character_age_good_survey_df['age0'] = 0\n",
    "character_age_good_survey_df['age1'] = 0\n",
    "character_age_good_survey_df['age2'] = 0\n",
    "\n",
    "# looping through each row of good_survey_df\n",
    "for row in range(0, len(good_survey_df)):\n",
    "    # loop through the five character type columns\n",
    "    for col in new_column_type:\n",
    "        if good_survey_df[col].iloc[row] == 0.0:\n",
    "            character_type_good_survey_df['type0'].iloc[row] = character_type_good_survey_df['type0'].iloc[row] + 1\n",
    "        if good_survey_df[col].iloc[row] == 1.0:\n",
    "            character_type_good_survey_df['type1'].iloc[row] = character_type_good_survey_df['type1'].iloc[row] + 1\n",
    "        if good_survey_df[col].iloc[row] == 2.0:\n",
    "            character_type_good_survey_df['type2'].iloc[row] = character_type_good_survey_df['type2'].iloc[row] + 1\n",
    "\n",
    "    # loop through the five character age columns\n",
    "    for col in new_column_age:\n",
    "        if good_survey_df[col].iloc[row] == 0.0:\n",
    "            character_age_good_survey_df['age0'].iloc[row] = character_age_good_survey_df['age0'].iloc[row] + 1\n",
    "        if good_survey_df[col].iloc[row] == 1.0:\n",
    "            character_age_good_survey_df['age1'].iloc[row] = character_age_good_survey_df['age1'].iloc[row] + 1\n",
    "        if good_survey_df[col].iloc[row] == 2.0:\n",
    "            character_age_good_survey_df['age2'].iloc[row] = character_age_good_survey_df['age2'].iloc[row] + 1"
   ]
  },
  {
   "cell_type": "code",
   "execution_count": 15,
   "metadata": {},
   "outputs": [
    {
     "name": "stdout",
     "output_type": "stream",
     "text": [
      "0.0 % have all character type 0\n",
      "0.83 % have some character type 0\n",
      "2.48 % have all character type 1\n",
      "17.36 % have some character type 1\n",
      "0.83 % have all character type 2\n",
      "7.44 % have some character type 2\n",
      "0.0 % have all character age 0\n",
      "0.0 % have some character age 0\n",
      "0.0 % have all character age 1\n",
      "13.22 % have some character age 1\n",
      "1.65 % have all character age 2\n",
      "9.92 % have some character age 2\n"
     ]
    }
   ],
   "source": [
    "# now calculate the percentage of rows which have all one type\n",
    "# and the percentage of rows which have 4/5 and all one type\n",
    "# create and save dataframes of these\n",
    "all_good_type0 = good_survey_df[good_survey_df['type0'] == 5]\n",
    "if len(all_good_type0) != 0:\n",
    "    # save dataframe\n",
    "    all_good_type0.to_csv(str('least_'+gender+'_all_type0_'+str(len(all_good_type0))+'entries.csv'))\n",
    "print round(float(len(all_good_type0))/len(good_survey_df), 4) * 100.0, '% have all character type 0'\n",
    "\n",
    "temp_good_type0 = good_survey_df[(good_survey_df['type0'] == 4)]\n",
    "some_good_type0 = pd.concat([all_good_type0, temp_good_type0])\n",
    "if len(some_good_type0) != 0:\n",
    "    # save dataframe\n",
    "    some_good_type0.to_csv(str('least_'+gender+'_some_type0_'+str(len(some_good_type0))+'entries.csv'))\n",
    "print round(float(len(some_good_type0))/len(good_survey_df), 4) * 100.0, '% have some character type 0'\n",
    "    \n",
    "all_good_type1 = good_survey_df[good_survey_df['type1'] == 5]\n",
    "if len(all_good_type1) != 0:\n",
    "    # save dataframe\n",
    "    all_good_type1.to_csv(str('least_'+gender+'_all_type1_'+str(len(all_good_type1))+'entries.csv'))\n",
    "print round(float(len(all_good_type1))/len(good_survey_df), 4) * 100.0, '% have all character type 1'\n",
    "\n",
    "temp_good_type1 = good_survey_df[(good_survey_df['type1'] == 4)]\n",
    "some_good_type1 = pd.concat([all_good_type1, temp_good_type1])\n",
    "if len(some_good_type1) != 0:\n",
    "    # save dataframe\n",
    "    some_good_type1.to_csv(str('least_'+gender+'_some_type1_'+str(len(some_good_type1))+'entries.csv'))\n",
    "print round(float(len(some_good_type1))/len(good_survey_df), 4) * 100.0, '% have some character type 1'\n",
    "\n",
    "all_good_type2 = good_survey_df[good_survey_df['type2'] == 5]\n",
    "if len(all_good_type2) != 0:\n",
    "    # save dataframe\n",
    "    all_good_type2.to_csv(str('least_'+gender+'_all_type2_'+str(len(all_good_type2))+'entries.csv'))\n",
    "print round(float(len(all_good_type2))/len(good_survey_df), 4) * 100.0, '% have all character type 2'\n",
    "\n",
    "temp_good_type2 = good_survey_df[(good_survey_df['type2'] == 4)]\n",
    "some_good_type2 = pd.concat([all_good_type2, temp_good_type2])\n",
    "if len(some_good_type2) != 0:\n",
    "    # save dataframe\n",
    "    some_good_type2.to_csv(str('least_'+gender+'_some_type2_'+str(len(some_good_type2))+'entries.csv'))\n",
    "print round(float(len(some_good_type2))/len(good_survey_df), 4) * 100.0, '% have some character type 2'\n",
    "\n",
    "# now calculate the percentage of rows which have all one age\n",
    "# and the percentage of rows which have 4/5 and all one age\n",
    "# create and save dataframes of these\n",
    "all_good_age0 = good_survey_df[good_survey_df['age0'] == 5]\n",
    "if len(all_good_age0) != 0:\n",
    "    # save dataframe\n",
    "    all_good_age0.to_csv(str('least_'+gender+'_all_age0_'+str(len(all_good_age0))+'entries.csv'))\n",
    "print round(float(len(all_good_age0))/len(good_survey_df), 4) * 100.0, '% have all character age 0'\n",
    "\n",
    "temp_good_age0 = good_survey_df[(good_survey_df['age0'] == 4)]\n",
    "some_good_age0 = pd.concat([all_good_age0, temp_good_age0])\n",
    "if len(some_good_age0) != 0:\n",
    "    # save dataframe\n",
    "    some_good_age0.to_csv(str('least_'+gender+'_some_age0_'+str(len(some_good_age0))+'entries.csv'))\n",
    "print round(float(len(some_good_age0))/len(good_survey_df), 4) * 100.0, '% have some character age 0'\n",
    "    \n",
    "all_good_age1 = good_survey_df[good_survey_df['age1'] == 5]\n",
    "if len(all_good_age1) != 0:\n",
    "    # save dataframe\n",
    "    all_good_age1.to_csv(str('least_'+gender+'_all_age1_'+str(len(all_good_age1))+'entries.csv'))\n",
    "print round(float(len(all_good_age1))/len(good_survey_df), 4) * 100.0, '% have all character age 1'\n",
    "\n",
    "temp_good_age1 = good_survey_df[(good_survey_df['age1'] == 4)]\n",
    "some_good_age1 = pd.concat([all_good_age1, temp_good_age1])\n",
    "if len(some_good_age1) != 0:\n",
    "    # save dataframe\n",
    "    some_good_age1.to_csv(str('least_'+gender+'_some_age1_'+str(len(some_good_age1))+'entries.csv'))\n",
    "print round(float(len(some_good_age1))/len(good_survey_df), 4) * 100.0, '% have some character age 1'\n",
    "\n",
    "all_good_age2 = good_survey_df[good_survey_df['age2'] == 5]\n",
    "if len(all_good_age2) != 0:\n",
    "    # save dataframe\n",
    "    all_good_age2.to_csv(str('least_'+gender+'_all_age2_'+str(len(all_good_age2))+'entries.csv'))\n",
    "print round(float(len(all_good_age2))/len(good_survey_df), 4) * 100.0, '% have all character age 2'\n",
    "\n",
    "temp_good_age2 = good_survey_df[(good_survey_df['age2'] == 4)]\n",
    "some_good_age2 = pd.concat([all_good_age2, temp_good_age2])\n",
    "if len(some_good_age2) != 0:\n",
    "    # save dataframe\n",
    "    some_good_age2.to_csv(str('least_'+gender+'_some_age2_'+str(len(some_good_age2))+'entries.csv'))\n",
    "print round(float(len(some_good_age2))/len(good_survey_df), 4) * 100.0, '% have some character age 2'"
   ]
  },
  {
   "cell_type": "code",
   "execution_count": null,
   "metadata": {
    "collapsed": true
   },
   "outputs": [],
   "source": []
  }
 ],
 "metadata": {
  "kernelspec": {
   "display_name": "Python 2",
   "language": "python",
   "name": "python2"
  },
  "language_info": {
   "codemirror_mode": {
    "name": "ipython",
    "version": 2
   },
   "file_extension": ".py",
   "mimetype": "text/x-python",
   "name": "python",
   "nbconvert_exporter": "python",
   "pygments_lexer": "ipython2",
   "version": "2.7.13"
  }
 },
 "nbformat": 4,
 "nbformat_minor": 2
}
