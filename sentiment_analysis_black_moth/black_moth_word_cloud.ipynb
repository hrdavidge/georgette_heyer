{
 "cells": [
  {
   "cell_type": "code",
   "execution_count": 1,
   "metadata": {},
   "outputs": [],
   "source": [
    "#pip install wordcloud"
   ]
  },
  {
   "cell_type": "code",
   "execution_count": 2,
   "metadata": {},
   "outputs": [],
   "source": [
    "from wordcloud import WordCloud, STOPWORDS\n",
    "import matplotlib.pyplot as plt\n",
    "import os"
   ]
  },
  {
   "cell_type": "code",
   "execution_count": 3,
   "metadata": {},
   "outputs": [],
   "source": [
    "# function to clean the text\n",
    "def remove_strange_characters(file):\n",
    "    text = file.read().strip().replace('\\r', ' ').replace('\\n', ' ').replace('\\xc3\\xa9', 'e').replace(\"\\xe2\\x80\\x9d\", '\"')\n",
    "    text = text.replace(\"\\xe2\\x80\\x9c\", '\"').replace('\\xe2\\x80\\x94', '-').replace('\\xc3\\xa8', 'e').replace('\\xc3\\xa2', 'a')\n",
    "    text = text.replace('\\xe2\\x80\\x98', '').replace('\\xc3\\xb4', 'o').replace('\\xc3\\xa7', 'c').replace('\\xc3\\xaf', 'i')\n",
    "    text = text.replace('\\xc3\\xaa', 'e').replace('\\xc3\\xbb', 'u').replace(\"\\xe2\\x80\\x99\", \"'\").replace('\\xc3\\xa0', 'a')\n",
    "    text = text.replace('\\xc5\\x92', 'OE').replace('\\xc5\\x93', 'oe').replace('\\xc3\\xae', 'i').replace('\\xc3\\x80', 'A')\n",
    "    text = text.replace('\\xc3\\xbc', 'u').replace('\\xe2\\x80\\x93', '-').replace('\\xc3\\xb6', 'o').replace('\\xc3\\xa4', 'a')\n",
    "    text = text.replace('\\xc3\\xb1', 'n').replace('\\xc3\\x89', 'E').replace('\\xc3\\x9c', 'U').replace('\\xc2\\xab', '')\n",
    "    text = text.replace('\\xc2\\xbb', '').replace('\\xc2\\xa3', 'pounds ').replace('\\xe2\\x80\\xa6', '...')\n",
    "    text = text.replace('\\xe2\\x80\\xa2', '').replace('\\xc3\\xab', 'e').replace('\\xc3\\xb9', 'u').replace('\\xc3\\xa1', 'a')\n",
    "    text = text.replace('\\xe0', '?').replace('\\xe9', 'e').replace('\\xea', ' ').replace('\\xc2\\xb0', '')\n",
    "    text = text.replace('\\xc3\\xb3', 'o').replace('\\xc3\\x87', 'C')\n",
    "    return text"
   ]
  },
  {
   "cell_type": "code",
   "execution_count": 4,
   "metadata": {},
   "outputs": [],
   "source": [
    "def remove_punctuation(text):\n",
    "    text = text.replace('.', ' ').replace(',', ' ').replace('?', ' ').replace('!', ' ')\n",
    "    text = text.replace(':', ' ').replace(';', ' ').replace('-', ' ')\n",
    "    text = text.replace('(', ' ').replace(')', ' ').replace('[', ' ').replace(']', ' ')\n",
    "    text = text.replace('\"', ' ').replace('_', ' ')#.replace(\"'\", \" \").replace(' s ', ' ').replace(' S ', ' ')\n",
    "    return text"
   ]
  },
  {
   "cell_type": "code",
   "execution_count": 5,
   "metadata": {},
   "outputs": [],
   "source": [
    "def remove_character_names(text):\n",
    "    bm_character_names = ['Hugh', 'Tracy', 'Clare', 'Belmanoir', 'Grace', 'Duke', 'Andover', 'Frank', \n",
    "                          'Fortescue', 'Chadber', 'Charles', 'Edward', 'Prince', 'Charlie', 'Chequers', \n",
    "                          'Marlborough', 'James', 'Sir', 'Anthony', 'Ferndale', 'Lord', 'John', 'Carstares', \n",
    "                          'Earl', 'Wyncham', 'Jack', 'Hon', 'Richard', 'Lady', 'Lavinia', 'Master', 'Warburton', \n",
    "                          'King', 'George', 'Harry', 'Jim', 'Lewes', 'Fudby', 'Chiltern', 'Hedges', 'Welsh', 'Gundry', \n",
    "                          'Milward', 'Dare', 'Fitzgeral', 'Betty', 'Andrew', 'Lavvy', 'Dick', 'Mayfair', 'Bath', \n",
    "                          'Queen', 'Anne', 'Colonel', 'Madam', 'Thompson', 'Miss', 'Elizabeth', 'Beauleigh', \n",
    "                          'Diana', 'Di', 'Beau', 'Nash', 'Everard', 'Mistress', 'Jennifer', 'Avon', 'Catherine', \n",
    "                          'Place', 'Will', 'Stapely', 'Viscount', 'Selwyn', 'Sir', 'Gregory', 'Markham', 'Cholmondely', \n",
    "                          'Ffolliott', 'Gilly', 'Tom', 'Wilding', 'Cynthia', 'Evans', 'Falmouth', 'Dunbar', \n",
    "                          'Sussex', 'Midhurst', 'Jenny', 'Miles', 'Hara', 'Molly', 'Kilroy', 'David', 'Smith', 'Harry', \n",
    "                          'Jasper', 'Thurze', 'House', 'Trencham', 'Salter', 'Duc', 'Mademoiselle', 'Thomas', 'Miss', \n",
    "                          'Horton', 'Manor', 'Littledean', 'Carr', 'Bettison', 'Cambridge', 'Oxford', 'Fido', \n",
    "                          'Fittering', 'Mary', 'London', 'House', 'Jane', 'Egmont', 'Cavendish', 'Julian', \n",
    "                          'Selwyn', 'Kitty', 'Robert', 'Pavilion', 'Bob', 'Captain', 'Lovelace', 'Harold', \n",
    "                          'Duchess', 'Devonshire', 'March', 'Gunning', 'Isabella', 'Fanshaw', 'Fotheringham', \n",
    "                          'Fletcher', 'Dolly', 'Pompadour', 'Paris', 'Grosvenor', 'Square', 'Davenant', 'Curzon', \n",
    "                          'Edgecumbe', 'Piccadilly', 'Arlington', 'Walpole', 'Twickenham', 'Williams', 'Harper', \n",
    "                          'Grandison', 'White', 'Standish', 'Vienna', 'Ervine', 'Delaney', 'Newgate', 'Mount', 'Douglas', \n",
    "                          'Scotland', 'Drury', 'Lane', 'Fleming', 'Holt', 'Carlyle', 'Queensbury', 'Devereux', 'Garrick', \n",
    "                          'Crescent', 'Fields', 'Scrub', 'Boniface', 'Archer', 'Clive', 'Brook', 'Street', 'Harriet', \n",
    "                          'Ashley', 'Horace', 'Court', 'Spectator', 'Maltby', 'Job', 'Countess', 'Coventry']\n",
    "    # loop through each character name and remove from text\n",
    "    for char_name in bm_character_names:\n",
    "        text = text.replace(char_name, ' ')\n",
    "    return text"
   ]
  },
  {
   "cell_type": "code",
   "execution_count": 6,
   "metadata": {},
   "outputs": [],
   "source": [
    "# import the text\n",
    "text_file_name = 'The_Black_Moth.txt'\n",
    "chapter_number = 'The Black Moth'\n",
    "# read in raw text file\n",
    "base=os.path.basename(text_file_name)\n",
    "name = os.path.splitext(base)[0]\n",
    "file = open(text_file_name, 'r')\n",
    "# remove non ascii characters\n",
    "text = remove_strange_characters(file)\n",
    "# remove punctuation \n",
    "text = remove_punctuation(text)"
   ]
  },
  {
   "cell_type": "code",
   "execution_count": 7,
   "metadata": {},
   "outputs": [],
   "source": [
    "#text = remove_character_names(text)"
   ]
  },
  {
   "cell_type": "code",
   "execution_count": 24,
   "metadata": {},
   "outputs": [],
   "source": [
    "# Define a function to plot word cloud\n",
    "def plot_cloud(wordcloud):\n",
    "    # Set figure size\n",
    "    #plt.figure(figsize=(400, 200))\n",
    "    plt.figure()\n",
    "    # Display image\n",
    "    #plt.imshow(wordcloud) \n",
    "    plt.imsave('the_black_moth_word_cloud_2.png', wordcloud) \n",
    "    # No axis details\n",
    "    #plt.axis(\"off\")\n",
    "    #plt.savefig('the_black_moth_word_cloud_2.png')"
   ]
  },
  {
   "cell_type": "code",
   "execution_count": 28,
   "metadata": {},
   "outputs": [],
   "source": [
    "# Generate word cloud\n",
    "# colourmaps https://matplotlib.org/stable/tutorials/colors/colormaps.html\n",
    "# background colours https://matplotlib.org/stable/gallery/color/named_colors.html\n",
    "wordcloud = WordCloud(width= 4000, height = 2000, random_state=1, background_color='peachpuff', colormap='Purples', collocations=False, stopwords = STOPWORDS).generate(text)"
   ]
  },
  {
   "cell_type": "code",
   "execution_count": 29,
   "metadata": {},
   "outputs": [],
   "source": [
    "wordcloud =  wordcloud.to_file('test.png')"
   ]
  },
  {
   "cell_type": "code",
   "execution_count": 1,
   "metadata": {},
   "outputs": [],
   "source": [
    "# Plot\n",
    "#plot_cloud(wordcloud)"
   ]
  },
  {
   "cell_type": "code",
   "execution_count": null,
   "metadata": {},
   "outputs": [],
   "source": []
  },
  {
   "cell_type": "code",
   "execution_count": null,
   "metadata": {},
   "outputs": [],
   "source": []
  },
  {
   "cell_type": "code",
   "execution_count": null,
   "metadata": {},
   "outputs": [],
   "source": []
  }
 ],
 "metadata": {
  "kernelspec": {
   "display_name": "Python 3",
   "language": "python",
   "name": "python3"
  },
  "language_info": {
   "codemirror_mode": {
    "name": "ipython",
    "version": 3
   },
   "file_extension": ".py",
   "mimetype": "text/x-python",
   "name": "python",
   "nbconvert_exporter": "python",
   "pygments_lexer": "ipython3",
   "version": "3.7.4"
  }
 },
 "nbformat": 4,
 "nbformat_minor": 2
}
